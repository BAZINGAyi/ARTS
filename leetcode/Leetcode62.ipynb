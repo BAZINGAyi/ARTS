{
 "cells": [
  {
   "cell_type": "markdown",
   "metadata": {},
   "source": [
    "# Leetcode 62\n",
    "\n",
    "## Problem Description\n",
    "\n",
    "A robot is located at the top-left corner of a m x n grid (marked 'Start' in the diagram below).\n",
    "\n",
    "The robot can only move either down or right at any point in time. The robot is trying to reach the bottom-right corner of the grid (marked 'Finish' in the diagram below).\n",
    "\n",
    "How many possible unique paths are there?\n",
    "\n",
    "## Example\n",
    "\n",
    "<img src=\"img/leetcode-62.png\">\n",
    "\n",
    "Input: m = 3, n = 2\n",
    "\n",
    "Output: 3\n",
    "\n",
    "Explanation:\n",
    "From the top-left corner, there are a total of 3 ways to reach the bottom-right corner:\n",
    "1. Right -> Right -> Down\n",
    "2. Right -> Down -> Right\n",
    "3. Down -> Right -> Right\n",
    "\n",
    "\n",
    "## Solution\n",
    "\n",
    "\n",
    "<img src=\"img/leetcode-62_solution.png\">\n",
    "\n",
    "\n",
    "A we can define a function f(param) for finding the only possible path to the end position.\n",
    "param represents the current position.\n",
    "\n",
    "We can found:\n",
    "\n",
    "f(Finish) = f(b) + f(a)\n",
    "\n",
    "f(b) = f(d) + f(e)\n",
    "\n",
    "f(a) = f(d) + f(c)\n",
    "\n",
    ".....\n",
    "\n",
    "The grid at row 0 can only be moved by the grid on the left. like e, only be moved by f.\n",
    "\n",
    "The grid in column 0 can only be moved by the grid above. like h, only be moved by j.\n",
    "\n",
    "So the possible unique paths always are 1.\n",
    "\n",
    "So we can resolve it by recursion.\n",
    "\n",
    "And then memorize， and then DP.\n",
    "\n"
   ]
  },
  {
   "cell_type": "code",
   "execution_count": null,
   "metadata": {
    "collapsed": true
   },
   "outputs": [],
   "source": []
  }
 ],
 "metadata": {
  "anaconda-cloud": {},
  "kernelspec": {
   "display_name": "Python [conda env:anaconda]",
   "language": "python",
   "name": "conda-env-anaconda-py"
  },
  "language_info": {
   "codemirror_mode": {
    "name": "ipython",
    "version": 3
   },
   "file_extension": ".py",
   "mimetype": "text/x-python",
   "name": "python",
   "nbconvert_exporter": "python",
   "pygments_lexer": "ipython3",
   "version": "3.5.2"
  }
 },
 "nbformat": 4,
 "nbformat_minor": 1
}
